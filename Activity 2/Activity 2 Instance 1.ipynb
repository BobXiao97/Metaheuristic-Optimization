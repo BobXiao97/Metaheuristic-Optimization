{
 "cells": [
  {
   "cell_type": "code",
   "execution_count": 30,
   "metadata": {},
   "outputs": [],
   "source": [
    "import random\n",
    "import numpy as np\n",
    "import copy\n",
    "import time\n",
    "import matplotlib.pyplot as plt\n",
    "import pandas as pd"
   ]
  },
  {
   "cell_type": "code",
   "execution_count": 31,
   "metadata": {},
   "outputs": [],
   "source": [
    "random.seed(1)\n",
    "n=100 #number of objects\n",
    "b=5 #number of bins\n",
    "c=50\n",
    "\n",
    "#Generate random locations\n",
    "vj=random.choices(range(10, 100),k=n)\n",
    "wj=random.choices(range(5, 20),k=n)"
   ]
  },
  {
   "cell_type": "markdown",
   "metadata": {},
   "source": [
    "Exercise 1"
   ]
  },
  {
   "cell_type": "markdown",
   "metadata": {},
   "source": [
    "Solution Encoding"
   ]
  },
  {
   "cell_type": "markdown",
   "metadata": {},
   "source": [
    "The solution is represented with an n by b matrix where n is the number of items and b is the\n",
    "number of containers. Entry (i,j) represents whether item i is assigned to container j with binary\n",
    "encoding."
   ]
  },
  {
   "cell_type": "markdown",
   "metadata": {},
   "source": [
    "The code below randomly generates a solution that might not be feasible. Each item has 1/3 chance to be put in the containers with equal probability."
   ]
  },
  {
   "cell_type": "code",
   "execution_count": 32,
   "metadata": {},
   "outputs": [],
   "source": [
    "#input: n-number of items; b-number of containers\n",
    "#output: result-a table of arrangement that might not be feasible\n",
    "def generate_solution(n,b):\n",
    "    result=np.zeros((n,b))\n",
    "    for i in range(n):\n",
    "        #whether to put the item in a knapsack\n",
    "        a=random.randint(0,2)\n",
    "        if a==1:\n",
    "            #decide to put in which knapsack\n",
    "            j=random.randint(0,b-1)\n",
    "            result[i,j]=1\n",
    "    return result"
   ]
  },
  {
   "cell_type": "markdown",
   "metadata": {},
   "source": [
    "The code below fixes an infeasible solution by randomly removing items from the overweighted bags."
   ]
  },
  {
   "cell_type": "code",
   "execution_count": 33,
   "metadata": {},
   "outputs": [],
   "source": [
    "#input: x-a table of arrangement that might not be feasible c-capacity\n",
    "#output: x-a table of a feasible arrangement\n",
    "def fix(x,c):\n",
    "    #check whether the result is valid\n",
    "    n,b=x.shape\n",
    "    valid=True\n",
    "    overweight={}\n",
    "    for i in range(b):\n",
    "        weight=0\n",
    "        for j in range(n):\n",
    "            weight+=wj[j]*x[j,i]\n",
    "        if weight>c:\n",
    "            valid=False\n",
    "            overweight[i]=weight\n",
    "\n",
    "    #randomly remove items until it meets the constraint\n",
    "    if valid==False:\n",
    "        for i,w in overweight.items():\n",
    "            in_bag=[]\n",
    "            for j in range(n):\n",
    "                if x[j,i]==1:\n",
    "                    in_bag.append(j)\n",
    "            while w>c:\n",
    "                a=random.randint(0,len(in_bag)-1)\n",
    "                x[in_bag[a],i]=0\n",
    "                w-=wj[in_bag[a]]\n",
    "                in_bag.pop(a)\n",
    "    return x"
   ]
  },
  {
   "cell_type": "markdown",
   "metadata": {},
   "source": [
    "The code below is used to convert a numpy result table to a more readable one."
   ]
  },
  {
   "cell_type": "code",
   "execution_count": 34,
   "metadata": {},
   "outputs": [],
   "source": [
    "def final_table(x):\n",
    "        container=list(range(1,b+1))\n",
    "        container.append('Total')\n",
    "        package=[]\n",
    "        for i in range(b):\n",
    "            package.append([])\n",
    "            for j in range(n):\n",
    "                if x[j,i]==1:\n",
    "                    package[i].append(j+1)\n",
    "        package.append('')\n",
    "        \n",
    "        profits=[]\n",
    "        weights=[]\n",
    "        for i in range(b):\n",
    "            profit=0\n",
    "            weight=0\n",
    "            for j in package[i]:\n",
    "                profit+=vj[j-1]\n",
    "                weight+=wj[j-1]\n",
    "            profits.append(profit)\n",
    "            weights.append(weight)\n",
    "        profits.append(sum(profits))\n",
    "        weights.append('')\n",
    "        data={'Container':container,'Packages':package,'Profit':profits,'Weight':weights}\n",
    "        return pd.DataFrame(data)    "
   ]
  },
  {
   "cell_type": "markdown",
   "metadata": {},
   "source": [
    "Mutation"
   ]
  },
  {
   "cell_type": "markdown",
   "metadata": {},
   "source": [
    "For each item, it has a 0.1% chance of mutation. After the mutation, it will either be placed in another bag, or just removed from the bag."
   ]
  },
  {
   "cell_type": "code",
   "execution_count": 57,
   "metadata": {},
   "outputs": [],
   "source": [
    "def mutation(x):\n",
    "    n,b=x.shape\n",
    "    for i in range(n):\n",
    "        #randomly choose a number among 1 to 1000, the number has 0.1% chance to be 100\n",
    "        m=random.randint(1,1000)\n",
    "        if m==100:\n",
    "            for j in range(b):\n",
    "                if x[i,j]==1:\n",
    "                    x[i,j]=0\n",
    "            #randomly choose a container to put the item in, if k=b, then just remove the item from the containers\n",
    "            k=random.randint(0,b)\n",
    "            if k!=b:\n",
    "                x[i,k]=1\n",
    "    return x\n",
    "    "
   ]
  },
  {
   "cell_type": "markdown",
   "metadata": {},
   "source": [
    "Fitness"
   ]
  },
  {
   "cell_type": "markdown",
   "metadata": {},
   "source": [
    "Fitness in this case is just the total amount of profit."
   ]
  },
  {
   "cell_type": "code",
   "execution_count": 58,
   "metadata": {},
   "outputs": [],
   "source": [
    "#input: x-a table of a feasible arrangement\n",
    "#output: profit-the fitness/total profit of this arrangement\n",
    "def fitness(x):\n",
    "    n,b=x.shape\n",
    "    profit=0\n",
    "    for i in range(n):\n",
    "        for j in range(b):\n",
    "            profit+=vj[i]*x[i,j]\n",
    "    return profit"
   ]
  },
  {
   "cell_type": "markdown",
   "metadata": {},
   "source": [
    "Evolution Algorithm"
   ]
  },
  {
   "cell_type": "markdown",
   "metadata": {},
   "source": [
    "The initial population are uniformly randomly generated. \n",
    "The population size is 10. \n",
    "The selection strategy is roulette wheel selection. \n",
    "The reproduction strategy is mutation only, 5 offsprings will be reproduced each iteration.\n",
    "The replacement strategy is generation replacement with elitism, only the best 10 among the 15 will make it to the next round. "
   ]
  },
  {
   "cell_type": "code",
   "execution_count": 59,
   "metadata": {},
   "outputs": [
    {
     "name": "stdout",
     "output_type": "stream",
     "text": [
      "  Container              Packages  Profit Weight\n",
      "0         1  [13, 27, 29, 41, 82]     296     37\n",
      "1         2      [55, 66, 76, 96]     243     46\n",
      "2         3       [6, 33, 40, 57]     118     46\n",
      "3         4          [24, 34, 72]     107     36\n",
      "4         5   [5, 15, 68, 69, 80]     338     43\n",
      "5     Total                          1102       \n"
     ]
    },
    {
     "data": {
      "text/plain": [
       "[<matplotlib.lines.Line2D at 0x1e97dc95970>]"
      ]
     },
     "execution_count": 59,
     "metadata": {},
     "output_type": "execute_result"
    },
    {
     "data": {
      "image/png": "[encoded data removed]",
      "text/plain": [
       "<Figure size 432x288 with 1 Axes>"
      ]
     },
     "metadata": {
      "needs_background": "light"
     },
     "output_type": "display_data"
    }
   ],
   "source": [
    "start=time.time()\n",
    "#generate 10 initial solutions\n",
    "population=[]\n",
    "for i in range(10):\n",
    "    a=generate_solution(n,b)\n",
    "    d=fix(a,c)\n",
    "    population.append(d)\n",
    "fitness_list=[]\n",
    "for i in population:\n",
    "    fit=fitness(i)\n",
    "    fitness_list.append(fit)\n",
    "end=time.time()\n",
    "time_list=[0]\n",
    "value_list=[max(fitness_list)]\n",
    "\n",
    "while end-start<60:\n",
    "    #roulette wheel selection\n",
    "    fitness_list=[]\n",
    "    for i in population:\n",
    "        fit=fitness(i)\n",
    "        fitness_list.append(fit)\n",
    "    k=sum(fitness_list)\n",
    "    for i in range(len(fitness_list)):\n",
    "        j=fitness_list[i]/k\n",
    "        fitness_list[i]=j\n",
    "    z=sum(fitness_list[0:9])\n",
    "    fitness_list[-1]=1-z\n",
    "    chosen=np.random.choice(np.arange(10),size=5,replace=False,p=fitness_list)\n",
    "\n",
    "    #mutation\n",
    "    for i in range(len(chosen)):\n",
    "        j=mutation(population[chosen[i]])\n",
    "        k=fix(j,c)\n",
    "        population.append(k)\n",
    "\n",
    "    #select the best 10 to next iteration\n",
    "    dict={}\n",
    "    for i in range(len(population)):\n",
    "        fit=fitness(population[i])\n",
    "        dict[i]=fit\n",
    "    list1=sorted(dict.items(),key=lambda x:x[1])\n",
    "    list2=[]\n",
    "    for i in list1:\n",
    "        list2.append(i[0])\n",
    "    new_pop=[]\n",
    "    for i in range(5,len(list2)):\n",
    "        new_pop.append(population[list2[i]])\n",
    "    best_val=list1[-1][1]\n",
    "    population=copy.deepcopy(new_pop)\n",
    "    end=time.time()\n",
    "    time_list.append(end-start)\n",
    "    value_list.append(best_val)\n",
    "\n",
    "dict={}\n",
    "for i in range(len(population)):\n",
    "    fit=fitness(population[i])\n",
    "    dict[i]=fit\n",
    "list1=sorted(dict.items(),key=lambda x:x[1])\n",
    "print(final_table(population[list1[-1][0]]))\n",
    "plt.xlabel('CPU Time')\n",
    "plt.ylabel('Profit')\n",
    "plt.xlim((0,60))\n",
    "plt.plot(time_list,value_list)"
   ]
  },
  {
   "cell_type": "markdown",
   "metadata": {},
   "source": [
    "Exercise 2"
   ]
  },
  {
   "cell_type": "markdown",
   "metadata": {},
   "source": [
    "Crossover"
   ]
  },
  {
   "cell_type": "markdown",
   "metadata": {},
   "source": [
    "The crossover here is uniform crossover with p=0.5, which is randomly select the arrangement of each item from both parent."
   ]
  },
  {
   "cell_type": "code",
   "execution_count": 60,
   "metadata": {},
   "outputs": [],
   "source": [
    "#input: x,y-two feasible arrangements act as parents\n",
    "#output: result-the offspring\n",
    "def crossover(x,y):\n",
    "    n,b=x.shape\n",
    "    result=np.zeros((n,b))\n",
    "    for i in range(n):\n",
    "        a=random.randint(0,1)\n",
    "        if a==0:\n",
    "            for j in range(b):\n",
    "                result[i,j]=x[i,j]\n",
    "        else:\n",
    "            for j in range(b):\n",
    "                result[i,j]=y[i,j]\n",
    "    return result"
   ]
  },
  {
   "cell_type": "markdown",
   "metadata": {},
   "source": [
    "The initial population are uniformly randomly generated. \n",
    "The population size is 10. \n",
    "The selection strategy is roulette wheel selection. \n",
    "The reproduction strategies are both mutation and crossover, 10 pairs of parents will be selected and 10 offsprings will be reproduced each iteration.\n",
    "The replacement strategy is generation replacement with elitism, only the best 10 among the 20 will make it to the next round. "
   ]
  },
  {
   "cell_type": "code",
   "execution_count": 61,
   "metadata": {},
   "outputs": [
    {
     "name": "stdout",
     "output_type": "stream",
     "text": [
      "  Container                      Packages  Profit Weight\n",
      "0         1          [23, 47, 79, 82, 91]     397     50\n",
      "1         2  [18, 41, 51, 52, 69, 75, 80]     545     50\n",
      "2         3           [8, 42, 54, 93, 96]     409     50\n",
      "3         4          [13, 53, 83, 86, 95]     438     47\n",
      "4         5      [19, 24, 29, 59, 63, 97]     420     50\n",
      "5     Total                                  2209       \n"
     ]
    },
    {
     "data": {
      "text/plain": [
       "[<matplotlib.lines.Line2D at 0x1e97c424970>]"
      ]
     },
     "execution_count": 61,
     "metadata": {},
     "output_type": "execute_result"
    },
    {
     "data": {
      "image/png": "[encoded data removed]",
      "text/plain": [
       "<Figure size 432x288 with 1 Axes>"
      ]
     },
     "metadata": {
      "needs_background": "light"
     },
     "output_type": "display_data"
    }
   ],
   "source": [
    "start=time.time()\n",
    "#generate 10 initial solutions\n",
    "population=[]\n",
    "for i in range(10):\n",
    "    a=generate_solution(n,b)\n",
    "    d=fix(a,c)\n",
    "    population.append(d)\n",
    "fitness_list=[]\n",
    "for i in population:\n",
    "    fit=fitness(i)\n",
    "    fitness_list.append(fit)\n",
    "end=time.time()\n",
    "time_list=[0]\n",
    "value_list=[max(fitness_list)]\n",
    "\n",
    "while end-start<60:\n",
    "    #roulette wheel selection\n",
    "    fitness_list=[]\n",
    "    for i in population:\n",
    "        fit=fitness(i)\n",
    "        fitness_list.append(fit)\n",
    "    k=sum(fitness_list)\n",
    "    for i in range(len(fitness_list)):\n",
    "        j=fitness_list[i]/k\n",
    "        fitness_list[i]=j\n",
    "    z=sum(fitness_list[0:9])\n",
    "    fitness_list[-1]=1-z\n",
    "    chosen_list=[]\n",
    "    for i in range(10):\n",
    "        chosen=np.random.choice(np.arange(10),size=2,replace=False,p=fitness_list)\n",
    "        chosen_list.append(chosen)\n",
    "    \n",
    "    #crossover and mutation\n",
    "    for i in chosen_list:\n",
    "        a=crossover(population[i[0]],population[i[1]])\n",
    "        d=mutation(a)\n",
    "        k=fix(d,c)\n",
    "        population.append(k)\n",
    "\n",
    "    #select the best 10 to next iteration\n",
    "    dict={}\n",
    "    for i in range(len(population)):\n",
    "        fit=fitness(population[i])\n",
    "        dict[i]=fit\n",
    "    list1=sorted(dict.items(),key=lambda x:x[1])\n",
    "    list2=[]\n",
    "    for i in list1:\n",
    "        list2.append(i[0])\n",
    "    new_pop=[]\n",
    "    for i in range(10,len(list2)):\n",
    "        new_pop.append(population[list2[i]])\n",
    "    best_val=list1[-1][1]\n",
    "    population=copy.deepcopy(new_pop)\n",
    "    end=time.time()\n",
    "    time_list.append(end-start)\n",
    "    value_list.append(best_val)\n",
    "\n",
    "dict={}\n",
    "for i in range(len(population)):\n",
    "    fit=fitness(population[i])\n",
    "    dict[i]=fit\n",
    "list1=sorted(dict.items(),key=lambda x:x[1])\n",
    "print(final_table(population[list1[-1][0]]))\n",
    "plt.xlabel('CPU Time')\n",
    "plt.ylabel('Profit')\n",
    "plt.xlim((0,60))\n",
    "plt.plot(time_list,value_list)"
   ]
  }
 ],
 "metadata": {
  "interpreter": {
   "hash": "581bbfd0e01faebb0cb8064afa412028d1a8cf5305296d5224dd7765dd767a7a"
  },
  "kernelspec": {
   "display_name": "Python 3.9.7 ('cse')",
   "language": "python",
   "name": "python3"
  },
  "language_info": {
   "codemirror_mode": {
    "name": "ipython",
    "version": 3
   },
   "file_extension": ".py",
   "mimetype": "text/x-python",
   "name": "python",
   "nbconvert_exporter": "python",
   "pygments_lexer": "ipython3",
   "version": "3.9.7"
  },
  "orig_nbformat": 4
 },
 "nbformat": 4,
 "nbformat_minor": 2
}
