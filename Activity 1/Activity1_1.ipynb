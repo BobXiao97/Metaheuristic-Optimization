{
 "cells": [
  {
   "cell_type": "markdown",
   "id": "9d0cbe39",
   "metadata": {},
   "source": [
    "Exercise 1\n",
    "$max  \\quad \\sum_{i=1}^{m} \\sum_{j=1}^{n} p_{j} x_{i j} \\\\\n",
    "s.t.   \\quad \\sum_{j=1}^{n} w_{j} x_{i j} \\leq c_{i} \\\\\n",
    "      \\quad\\qquad\\sum_{i=1}^{m} x_{i j} \\leq 1 \\\\\n",
    "      \\quad\\qquad x_{i j} \\in\\{0,1\\} \\\\\n",
    "where   \\quad x_{i j}=\\left\\{\\begin{array}{c}1 \\text { if item j is assigned to knapsack i } \\\\ \\text { 0 otherwise }\\end{array}\\right.$"
   ]
  },
  {
   "cell_type": "markdown",
   "id": "b4609ccf",
   "metadata": {},
   "source": [
    "Exercise 2"
   ]
  },
  {
   "cell_type": "code",
   "execution_count": 6,
   "id": "76dc2ad0",
   "metadata": {},
   "outputs": [],
   "source": [
    "import random\n",
    "import pyomo.environ as pyo\n",
    "from pyomo.environ import *"
   ]
  },
  {
   "cell_type": "code",
   "execution_count": 2,
   "id": "22ad87c5",
   "metadata": {},
   "outputs": [],
   "source": [
    "random.seed(1)\n",
    "n=100 #number of objects\n",
    "b=5 #number of bins\n",
    "c=50\n",
    "\n",
    "#Generate random locations\n",
    "vj=random.choices(range(10, 100),k=n)\n",
    "wj=random.choices(range(5, 20),k=n)"
   ]
  },
  {
   "cell_type": "code",
   "execution_count": 4,
   "id": "6e92e4af",
   "metadata": {},
   "outputs": [
    {
     "name": "stdout",
     "output_type": "stream",
     "text": [
      "Set parameter Username\n",
      "Academic license - for non-commercial use only - expires 2023-01-29\n",
      "Read LP format model from file C:\\Users\\dell\\AppData\\Local\\Temp\\tmpdvcrx_2t.pyomo.lp\n",
      "Reading time = 0.01 seconds\n",
      "x501: 106 rows, 501 columns, 1001 nonzeros\n",
      "Set parameter TimeLimit to value 10000\n",
      "Gurobi Optimizer version 9.5.0 build v9.5.0rc5 (win64)\n",
      "Thread count: 4 physical cores, 8 logical processors, using up to 8 threads\n",
      "Optimize a model with 106 rows, 501 columns and 1001 nonzeros\n",
      "Model fingerprint: 0xfaca7c7f\n",
      "Variable types: 1 continuous, 500 integer (500 binary)\n",
      "Coefficient statistics:\n",
      "  Matrix range     [1e+00, 2e+01]\n",
      "  Objective range  [1e+01, 1e+02]\n",
      "  Bounds range     [1e+00, 1e+00]\n",
      "  RHS range        [1e+00, 5e+01]\n",
      "Found heuristic solution: objective 1124.0000000\n",
      "Presolve removed 1 rows and 1 columns\n",
      "Presolve time: 0.00s\n",
      "Presolved: 105 rows, 500 columns, 1000 nonzeros\n",
      "Variable types: 0 continuous, 500 integer (500 binary)\n",
      "Found heuristic solution: objective 2053.0000000\n",
      "\n",
      "Root relaxation: objective 2.356357e+03, 91 iterations, 0.00 seconds (0.00 work units)\n",
      "\n",
      "    Nodes    |    Current Node    |     Objective Bounds      |     Work\n",
      " Expl Unexpl |  Obj  Depth IntInf | Incumbent    BestBd   Gap | It/Node Time\n",
      "\n",
      "     0     0 2356.35714    0    8 2053.00000 2356.35714  14.8%     -    0s\n",
      "H    0     0                    2288.0000000 2356.35714  2.99%     -    0s\n",
      "H    0     0                    2356.0000000 2356.35714  0.02%     -    0s\n",
      "     0     0 2356.35714    0    8 2356.00000 2356.35714  0.02%     -    0s\n",
      "\n",
      "Explored 1 nodes (91 simplex iterations) in 0.02 seconds (0.00 work units)\n",
      "Thread count was 8 (of 8 available processors)\n",
      "\n",
      "Solution count 4: 2356 2288 2053 1124 \n",
      "\n",
      "Optimal solution found (tolerance 1.00e-04)\n",
      "Best objective 2.356000000000e+03, best bound 2.356000000000e+03, gap 0.0000%\n"
     ]
    },
    {
     "data": {
      "text/plain": [
       "{'Problem': [{'Name': 'x501', 'Lower bound': 2356.0, 'Upper bound': 2356.0, 'Number of objectives': 1, 'Number of constraints': 106, 'Number of variables': 501, 'Number of binary variables': 500, 'Number of integer variables': 500, 'Number of continuous variables': 1, 'Number of nonzeros': 1001, 'Sense': 'maximize'}], 'Solver': [{'Status': 'ok', 'Return code': '0', 'Message': 'Model was solved to optimality (subject to tolerances), and an optimal solution is available.', 'Termination condition': 'optimal', 'Termination message': 'Model was solved to optimality (subject to tolerances), and an optimal solution is available.', 'Wall time': '0.020910263061523438', 'Error rc': 0, 'Time': 0.2313857078552246}], 'Solution': [OrderedDict([('number of solutions', 0), ('number of solutions displayed', 0)])]}"
      ]
     },
     "execution_count": 4,
     "metadata": {},
     "output_type": "execute_result"
    }
   ],
   "source": [
    "model=pyo.ConcreteModel()\n",
    "\n",
    "model.i=RangeSet(0,b-1)\n",
    "model.j=RangeSet(0,n-1)\n",
    "model.p=Param(model.j,initialize=vj)\n",
    "model.w=Param(model.j,initialize=wj)\n",
    "model.x=Var(model.j,model.i,within=Binary)\n",
    "\n",
    "def objective(model):\n",
    "    result=0\n",
    "    for j in model.j:\n",
    "        for i in model.i:\n",
    "            result+=model.p[j]*model.x[j,i]\n",
    "    return result\n",
    "model.cost=Objective(rule=objective,sense=maximize)\n",
    "\n",
    "def constraint1(model,i):\n",
    "    total=0\n",
    "    for j in model.j:\n",
    "        total+=model.w[j]*model.x[j,i]\n",
    "    return total<=c\n",
    "model.cons1=Constraint(model.i,rule=constraint1)\n",
    "\n",
    "def constraint2(model,j):\n",
    "    total=0\n",
    "    for i in model.i:\n",
    "        total+=model.x[j,i]\n",
    "    return total<=1\n",
    "model.cons2=Constraint(model.j,rule=constraint2)\n",
    "\n",
    "instance=model.create_instance()\n",
    "opt=pyo.SolverFactory('gurobi')\n",
    "opt.solve(instance,options={'TimeLimit': 10000},tee=True)                   "
   ]
  },
  {
   "cell_type": "markdown",
   "id": "3c7ef1ad",
   "metadata": {},
   "source": [
    "Exercise 3"
   ]
  },
  {
   "cell_type": "code",
   "execution_count": 28,
   "id": "519d9181",
   "metadata": {},
   "outputs": [],
   "source": [
    "import random\n",
    "import numpy as np\n",
    "import copy\n",
    "import time\n",
    "import matplotlib.pyplot as plt\n",
    "import math"
   ]
  },
  {
   "cell_type": "code",
   "execution_count": 43,
   "id": "971ec25b",
   "metadata": {},
   "outputs": [],
   "source": [
    "#convert the binary result to a table.\n",
    "import pandas as pd\n",
    "\n",
    "def final_table(x):\n",
    "        container=list(range(1,b+1))\n",
    "        container.append('Total')\n",
    "        package=[]\n",
    "        for i in range(b):\n",
    "            package.append([])\n",
    "            for j in range(n):\n",
    "                if x[j,i]==1:\n",
    "                    package[i].append(j+1)\n",
    "        package.append('')\n",
    "        \n",
    "        profits=[]\n",
    "        weights=[]\n",
    "        for i in range(b):\n",
    "            profit=0\n",
    "            weight=0\n",
    "            for j in package[i]:\n",
    "                profit+=vj[j-1]\n",
    "                weight+=wj[j-1]\n",
    "            profits.append(profit)\n",
    "            weights.append(weight)\n",
    "        profits.append(best_value)\n",
    "        weights.append('')\n",
    "        data={'Container':container,'Packages':package,'Profit':profits,'Weight':weights}\n",
    "        return pd.DataFrame(data)    "
   ]
  },
  {
   "cell_type": "markdown",
   "id": "9ad2798f",
   "metadata": {},
   "source": [
    "Random Generation"
   ]
  },
  {
   "cell_type": "code",
   "execution_count": 39,
   "id": "51a99a21",
   "metadata": {},
   "outputs": [
    {
     "name": "stdout",
     "output_type": "stream",
     "text": [
      "  Container          Packages  Profit Weight\n",
      "0         1      [54, 74, 83]   246.0     49\n",
      "1         2  [65, 75, 82, 87]   261.0     42\n",
      "2         3  [18, 29, 30, 59]   279.0     44\n",
      "3         4  [13, 16, 22, 80]   308.0     40\n",
      "4         5  [11, 47, 55, 89]   268.0     48\n",
      "5     Total                    1758.0       \n"
     ]
    },
    {
     "data": {
      "text/plain": [
       "[<matplotlib.lines.Line2D at 0x26d40445940>]"
      ]
     },
     "execution_count": 39,
     "metadata": {},
     "output_type": "execute_result"
    },
    {
     "data": {
      "image/png": "[encoded data removed]",
      "text/plain": [
       "<Figure size 432x288 with 1 Axes>"
      ]
     },
     "metadata": {
      "needs_background": "light"
     },
     "output_type": "display_data"
    }
   ],
   "source": [
    "result=np.zeros((n,b))\n",
    "iteration=0\n",
    "best_value=0\n",
    "start=time.time()\n",
    "end=time.time()\n",
    "time_list=[0]\n",
    "value_list=[0]\n",
    "\n",
    "while end-start<60:\n",
    "    #randomly generate a result\n",
    "    for i in range(n):\n",
    "        #whether to put the item in a knapsack\n",
    "        a=random.randint(0,3)\n",
    "        if a==1:\n",
    "            #decide to put in which knapsack\n",
    "            j=random.randint(0,b-1)\n",
    "            result[i,j]=1\n",
    "    \n",
    "    #check whether the result is valid\n",
    "    valid=True\n",
    "    overweight={}\n",
    "    for i in range(b):\n",
    "        weight=0\n",
    "        for j in range(n):\n",
    "            weight+=wj[j]*result[j,i]\n",
    "        if weight>c:\n",
    "            valid=False\n",
    "            overweight[i]=weight\n",
    "    \n",
    "    #randomly remove items until it meets the constraint\n",
    "    if valid==False:\n",
    "        for i,w in overweight.items():\n",
    "            in_bag=[]\n",
    "            for j in range(n):\n",
    "                if result[j,i]==1:\n",
    "                    in_bag.append(j)\n",
    "            while w>c:\n",
    "                a=random.randint(0,len(in_bag)-1)\n",
    "                result[in_bag[a],i]=0\n",
    "                w-=wj[in_bag[a]]\n",
    "                in_bag.pop(a)\n",
    "\n",
    "    #calculate the new value\n",
    "    cur_value=0\n",
    "    for i in range(n):\n",
    "        for j in range(b):\n",
    "            cur_value+=vj[i]*result[i,j]\n",
    "    if cur_value>best_value:\n",
    "        best_value=cur_value\n",
    "    end=time.time()\n",
    "    time_list.append(end-start)\n",
    "    value_list.append(best_value)\n",
    "print(final_table(result))\n",
    "plt.xlabel('CPU Time')\n",
    "plt.ylabel('Profit')\n",
    "plt.xlim((0,60))\n",
    "plt.plot(time_list,value_list)"
   ]
  },
  {
   "cell_type": "markdown",
   "id": "2fb81837",
   "metadata": {},
   "source": [
    "Local Search: Choose 1 random neighbour"
   ]
  },
  {
   "cell_type": "code",
   "execution_count": 19,
   "id": "dbfddf44",
   "metadata": {},
   "outputs": [
    {
     "name": "stdout",
     "output_type": "stream",
     "text": [
      "  Container                     Packages  Profit Weight\n",
      "0         1             [64, 68, 75, 92]   258.0     47\n",
      "1         2             [38, 42, 56, 58]   241.0     49\n",
      "2         3             [25, 73, 74, 81]   194.0     49\n",
      "3         4  [1, 13, 28, 37, 51, 52, 53]   402.0     50\n",
      "4         5             [22, 23, 78, 96]   253.0     50\n",
      "5     Total                               1348.0       \n"
     ]
    },
    {
     "data": {
      "text/plain": [
       "[<matplotlib.lines.Line2D at 0x2369a421d30>]"
      ]
     },
     "execution_count": 19,
     "metadata": {},
     "output_type": "execute_result"
    },
    {
     "data": {
      "image/png": "[encoded data removed]",
      "text/plain": [
       "<Figure size 432x288 with 1 Axes>"
      ]
     },
     "metadata": {
      "needs_background": "light"
     },
     "output_type": "display_data"
    }
   ],
   "source": [
    "result=np.zeros((n,b))\n",
    "iteration=0\n",
    "best_value=0\n",
    "start=time.time()\n",
    "time_list=[0]\n",
    "value_list=[0]\n",
    "\n",
    "#generate a random solution\n",
    "for i in range(n):\n",
    "    #whether to put the item in a knapsack\n",
    "    a=random.randint(0,50)\n",
    "    if a==1:\n",
    "        #decide to put in which knapsack\n",
    "        j=random.randint(0,b-1)\n",
    "        result[i,j]=1\n",
    "    \n",
    "#check whether the result is valid\n",
    "valid=True\n",
    "overweight={}\n",
    "for i in range(b):\n",
    "    weight=0\n",
    "    for j in range(n):\n",
    "        weight+=wj[j]*result[j,i]\n",
    "    if weight>c:\n",
    "        valid=False\n",
    "        overweight[i]=weight\n",
    "    \n",
    "#randomly remove items until it meets the constraint\n",
    "if valid==False:\n",
    "    for i,w in overweight.items():\n",
    "        in_bag=[]\n",
    "        for j in range(n):\n",
    "            if result[j,i]==1:\n",
    "                in_bag.append(j)\n",
    "        while w>c:\n",
    "            a=random.randint(0,len(in_bag)-1)\n",
    "            result[in_bag[a],i]=0\n",
    "            w-=wj[in_bag[a]]\n",
    "            in_bag.pop(a)\n",
    "\n",
    "end=time.time()\n",
    "while end-start<60:\n",
    "    pre_result=copy.deepcopy(result)\n",
    "    \n",
    "    #choose which item to change\n",
    "    i=random.randint(0,n-1)\n",
    "    \n",
    "    #check whether the item is already put in a bag, if so, remove it.\n",
    "    for j in range(b):\n",
    "        if result[i,j]==1:\n",
    "            result[i,j]=0\n",
    "            \n",
    "    #choose a random bag to put it in\n",
    "    j=random.randint(0,b-1)\n",
    "    result[i,j]=1\n",
    "    \n",
    "    #check whether the result is valid\n",
    "    valid=True\n",
    "    for i in range(b):\n",
    "        weight=0\n",
    "        for j in range(n):\n",
    "            weight+=wj[j]*result[j,i]\n",
    "        if weight>c:\n",
    "            valid=False\n",
    "            result=pre_result\n",
    "    \n",
    "    #calculate the new value\n",
    "    if valid==True:\n",
    "        cur_value=0\n",
    "        for i in range(n):\n",
    "            for j in range(b):\n",
    "                cur_value+=vj[i]*result[i,j]\n",
    "        if cur_value>best_value:\n",
    "            best_value=cur_value\n",
    "        else:\n",
    "            result=pre_result\n",
    "    end=time.time()\n",
    "    time_list.append(end-start)\n",
    "    value_list.append(best_value)\n",
    "\n",
    "print(final_table(result))\n",
    "plt.xlabel('CPU Time')\n",
    "plt.ylabel('Profit')\n",
    "plt.xlim((0,60))\n",
    "plt.plot(time_list,value_list)"
   ]
  },
  {
   "cell_type": "markdown",
   "id": "3950b241",
   "metadata": {},
   "source": [
    "Simulated Annealing"
   ]
  },
  {
   "cell_type": "code",
   "execution_count": 44,
   "id": "f000e305",
   "metadata": {},
   "outputs": [
    {
     "name": "stdout",
     "output_type": "stream",
     "text": [
      "  Container              Packages  Profit Weight\n",
      "0         1  [10, 25, 42, 52, 77]   235.0     50\n",
      "1         2       [5, 22, 51, 54]   235.0     49\n",
      "2         3           [2, 62, 84]   175.0     49\n",
      "3         4  [12, 14, 30, 41, 70]   256.0     47\n",
      "4         5  [13, 28, 38, 49, 91]   347.0     48\n",
      "5     Total                        1248.0       \n"
     ]
    },
    {
     "data": {
      "text/plain": [
       "[<matplotlib.lines.Line2D at 0x2369b58d0d0>]"
      ]
     },
     "execution_count": 44,
     "metadata": {},
     "output_type": "execute_result"
    },
    {
     "data": {
      "image/png": "[encoded data removed]",
      "text/plain": [
       "<Figure size 432x288 with 1 Axes>"
      ]
     },
     "metadata": {
      "needs_background": "light"
     },
     "output_type": "display_data"
    }
   ],
   "source": [
    "result=np.zeros((n,b))\n",
    "iteration=0\n",
    "best_value=0\n",
    "start=time.time()\n",
    "time_list=[0]\n",
    "value_list=[0]\n",
    "T=1000\n",
    "\n",
    "#generate a random solution\n",
    "for i in range(n):\n",
    "    #whether to put the item in a knapsack\n",
    "    a=random.randint(0,50)\n",
    "    if a==1:\n",
    "        #decide to put in which knapsack\n",
    "        j=random.randint(0,b-1)\n",
    "        result[i,j]=1\n",
    "    \n",
    "#check whether the result is valid\n",
    "valid=True\n",
    "overweight={}\n",
    "for i in range(b):\n",
    "    weight=0\n",
    "    for j in range(n):\n",
    "        weight+=wj[j]*result[j,i]\n",
    "    if weight>c:\n",
    "        valid=False\n",
    "        overweight[i]=weight\n",
    "    \n",
    "#randomly remove items until it meets the constraint\n",
    "if valid==False:\n",
    "    for i,w in overweight.items():\n",
    "        in_bag=[]\n",
    "        for j in range(n):\n",
    "            if result[j,i]==1:\n",
    "                in_bag.append(j)\n",
    "        while w>c:\n",
    "            a=random.randint(0,len(in_bag)-1)\n",
    "            result[in_bag[a],i]=0\n",
    "            w-=wj[in_bag[a]]\n",
    "            in_bag.pop(a)\n",
    "\n",
    "end=time.time()\n",
    "while end-start<60:\n",
    "    pre_result=copy.deepcopy(result)\n",
    "    \n",
    "    #choose which item to change\n",
    "    i=random.randint(0,n-1)\n",
    "    \n",
    "    #check whether the item is already put in a bag, if so, remove it.\n",
    "    for j in range(b):\n",
    "        if result[i,j]==1:\n",
    "            result[i,j]=0\n",
    "            \n",
    "    #choose a random bag to put it in\n",
    "    j=random.randint(0,b-1)\n",
    "    result[i,j]=1\n",
    "    \n",
    "    #check whether the result is valid\n",
    "    valid=True\n",
    "    for i in range(b):\n",
    "        weight=0\n",
    "        for j in range(n):\n",
    "            weight+=wj[j]*result[j,i]\n",
    "        if weight>c:\n",
    "            valid=False\n",
    "            result=pre_result\n",
    "    \n",
    "    #calculate the new value\n",
    "    if valid==True:\n",
    "        cur_value=0\n",
    "        for i in range(n):\n",
    "            for j in range(b):\n",
    "                cur_value+=vj[i]*result[i,j]\n",
    "        p=random.random()\n",
    "        if cur_value>best_value or p<math.exp((cur_value-best_value)/T):\n",
    "            best_value=cur_value\n",
    "        else:\n",
    "            result=pre_result\n",
    "    end=time.time()\n",
    "    time_list.append(end-start)\n",
    "    value_list.append(best_value)\n",
    "    T=0.9*T\n",
    "\n",
    "print(final_table(result))\n",
    "plt.xlabel('CPU Time')\n",
    "plt.ylabel('Profit')\n",
    "plt.xlim((0,60))\n",
    "plt.plot(time_list,value_list)"
   ]
  }
 ],
 "metadata": {
  "kernelspec": {
   "display_name": "Python 3 (ipykernel)",
   "language": "python",
   "name": "python3"
  },
  "language_info": {
   "codemirror_mode": {
    "name": "ipython",
    "version": 3
   },
   "file_extension": ".py",
   "mimetype": "text/x-python",
   "name": "python",
   "nbconvert_exporter": "python",
   "pygments_lexer": "ipython3",
   "version": "3.9.7"
  }
 },
 "nbformat": 4,
 "nbformat_minor": 5
}
