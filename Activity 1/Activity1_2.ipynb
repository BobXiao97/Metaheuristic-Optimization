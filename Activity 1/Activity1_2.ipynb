{
 "cells": [
  {
   "cell_type": "markdown",
   "id": "9d0cbe39",
   "metadata": {},
   "source": [
    "Exercise 1\n",
    "$max  \\quad \\sum_{i=1}^{m} \\sum_{j=1}^{n} p_{j} x_{i j} \\\\\n",
    "s.t.   \\quad \\sum_{j=1}^{n} w_{j} x_{i j} \\leq c_{i} \\\\\n",
    "      \\quad\\qquad\\sum_{i=1}^{m} x_{i j} \\leq 1 \\\\\n",
    "      \\quad\\qquad x_{i j} \\in\\{0,1\\} \\\\\n",
    "where   \\quad x_{i j}=\\left\\{\\begin{array}{c}1 \\text { if item j is assigned to knapsack i } \\\\ \\text { 0 otherwise }\\end{array}\\right.$"
   ]
  },
  {
   "cell_type": "markdown",
   "id": "b4609ccf",
   "metadata": {},
   "source": [
    "Exercise 2"
   ]
  },
  {
   "cell_type": "code",
   "execution_count": 6,
   "id": "76dc2ad0",
   "metadata": {},
   "outputs": [],
   "source": [
    "import random\n",
    "import pyomo.environ as pyo\n",
    "from pyomo.environ import *"
   ]
  },
  {
   "cell_type": "code",
   "execution_count": 5,
   "id": "ab2f82fc",
   "metadata": {},
   "outputs": [],
   "source": [
    "random.seed(1)\n",
    "n=10000 #number of packages\n",
    "b=200 #number of bins\n",
    "c=50\n",
    "\n",
    "#Generate random locations\n",
    "vj=random.choices(range(10, 100),k=n)\n",
    "wj=random.choices(range(5, 20),k=n)"
   ]
  },
  {
   "cell_type": "code",
   "execution_count": 7,
   "id": "cc9f08e0",
   "metadata": {},
   "outputs": [
    {
     "name": "stdout",
     "output_type": "stream",
     "text": [
      "Set parameter Username\n",
      "Academic license - for non-commercial use only - expires 2023-01-29\n",
      "Read LP format model from file C:\\Users\\dell\\AppData\\Local\\Temp\\tmphbe4gbq_.pyomo.lp\n",
      "Reading time = 6.50 seconds\n",
      "x2000001: 10201 rows, 2000001 columns, 4000001 nonzeros\n",
      "Set parameter TimeLimit to value 10000\n",
      "Gurobi Optimizer version 9.5.0 build v9.5.0rc5 (win64)\n",
      "Thread count: 4 physical cores, 8 logical processors, using up to 8 threads\n",
      "Optimize a model with 10201 rows, 2000001 columns and 4000001 nonzeros\n",
      "Model fingerprint: 0x20eebf97\n",
      "Variable types: 1 continuous, 2000000 integer (2000000 binary)\n",
      "Coefficient statistics:\n",
      "  Matrix range     [1e+00, 2e+01]\n",
      "  Objective range  [1e+01, 1e+02]\n",
      "  Bounds range     [1e+00, 1e+00]\n",
      "  RHS range        [1e+00, 5e+01]\n",
      "Found heuristic solution: objective 44250.000000\n",
      "Presolve removed 1 rows and 1 columns (presolve time = 5s) ...\n",
      "Presolve removed 1 rows and 1 columns\n",
      "Presolve time: 6.43s\n",
      "Presolved: 10200 rows, 2000000 columns, 4000000 nonzeros\n",
      "Variable types: 0 continuous, 2000000 integer (2000000 binary)\n",
      "\n",
      "Deterministic concurrent LP optimizer: primal and dual simplex\n",
      "Showing first log only...\n",
      "\n",
      "\n",
      "Root simplex log...\n",
      "\n",
      "Iteration    Objective       Primal Inf.    Dual Inf.      Time\n",
      "       0    5.3257000e+04   0.000000e+00   1.362713e+07     22s\n",
      "     258    1.1792655e+05   0.000000e+00   0.000000e+00     22s\n",
      "     258    1.1792655e+05   0.000000e+00   0.000000e+00     22s\n",
      "\n",
      "Use crossover to convert LP symmetric solution to basic solution...\n",
      "\n",
      "Root crossover log...\n",
      "\n",
      "       0 DPushes remaining with DInf 0.0000000e+00                23s\n",
      "\n",
      "  294328 PPushes remaining with PInf 0.0000000e+00                23s\n",
      "       0 PPushes remaining with PInf 0.0000000e+00                24s\n",
      "\n",
      "  Push phase complete: Pinf 0.0000000e+00, Dinf 1.9895197e-13     24s\n",
      "\n",
      "\n",
      "Root simplex log...\n",
      "\n",
      "Iteration    Objective       Primal Inf.    Dual Inf.      Time\n",
      "  296047    1.1792655e+05   0.000000e+00   0.000000e+00     24s\n",
      "Concurrent spin time: 0.01s\n",
      "\n",
      "Solved with dual simplex\n",
      "\n",
      "Root relaxation: objective 1.179265e+05, 295790 iterations, 5.52 seconds (2.50 work units)\n",
      "Total elapsed time = 34.24s\n",
      "Total elapsed time = 36.83s\n",
      "\n",
      "    Nodes    |    Current Node    |     Objective Bounds      |     Work\n",
      " Expl Unexpl |  Obj  Depth IntInf | Incumbent    BestBd   Gap | It/Node Time\n",
      "\n",
      "     0     0 117926.545    0    9 44250.0000 117926.545   167%     -   49s\n",
      "H    0     0                    117810.00000 117926.545  0.10%     -   60s\n",
      "H    0     0                    117926.00000 117926.545  0.00%     -   66s\n",
      "     0     0 117926.545    0    9 117926.000 117926.545  0.00%     -   66s\n",
      "\n",
      "Explored 1 nodes (375473 simplex iterations) in 66.76 seconds (30.68 work units)\n",
      "Thread count was 8 (of 8 available processors)\n",
      "\n",
      "Solution count 3: 117926 117810 44250 \n",
      "\n",
      "Optimal solution found (tolerance 1.00e-04)\n",
      "Best objective 1.179260000000e+05, best bound 1.179260000000e+05, gap 0.0000%\n"
     ]
    },
    {
     "data": {
      "text/plain": [
       "{'Problem': [{'Name': 'x2000001', 'Lower bound': 117926.0, 'Upper bound': 117926.0, 'Number of objectives': 1, 'Number of constraints': 10201, 'Number of variables': 2000001, 'Number of binary variables': 2000000, 'Number of integer variables': 2000000, 'Number of continuous variables': 1, 'Number of nonzeros': 4000001, 'Sense': 'maximize'}], 'Solver': [{'Status': 'ok', 'Return code': '0', 'Message': 'Model was solved to optimality (subject to tolerances), and an optimal solution is available.', 'Termination condition': 'optimal', 'Termination message': 'Model was solved to optimality (subject to tolerances), and an optimal solution is available.', 'Wall time': '66.78540992736816', 'Error rc': 0, 'Time': 81.06724262237549}], 'Solution': [OrderedDict([('number of solutions', 0), ('number of solutions displayed', 0)])]}"
      ]
     },
     "execution_count": 7,
     "metadata": {},
     "output_type": "execute_result"
    }
   ],
   "source": [
    "model=pyo.ConcreteModel()\n",
    "\n",
    "model.i=RangeSet(0,b-1)\n",
    "model.j=RangeSet(0,n-1)\n",
    "model.p=Param(model.j,initialize=vj)\n",
    "model.w=Param(model.j,initialize=wj)\n",
    "model.x=Var(model.j,model.i,within=Binary)\n",
    "\n",
    "def objective(model):\n",
    "    result=0\n",
    "    for j in model.j:\n",
    "        for i in model.i:\n",
    "            result+=model.p[j]*model.x[j,i]\n",
    "    return result\n",
    "model.cost=Objective(rule=objective,sense=maximize)\n",
    "\n",
    "def constraint1(model,i):\n",
    "    total=0\n",
    "    for j in model.j:\n",
    "        total+=model.w[j]*model.x[j,i]\n",
    "    return total<=c\n",
    "model.cons1=Constraint(model.i,rule=constraint1)\n",
    "\n",
    "def constraint2(model,j):\n",
    "    total=0\n",
    "    for i in model.i:\n",
    "        total+=model.x[j,i]\n",
    "    return total<=1\n",
    "model.cons2=Constraint(model.j,rule=constraint2)\n",
    "\n",
    "instance=model.create_instance()\n",
    "opt=pyo.SolverFactory('gurobi')\n",
    "opt.solve(instance,options={'TimeLimit': 10000},tee=True)"
   ]
  },
  {
   "cell_type": "markdown",
   "id": "3c7ef1ad",
   "metadata": {},
   "source": [
    "Exercise 3"
   ]
  },
  {
   "cell_type": "code",
   "execution_count": 28,
   "id": "519d9181",
   "metadata": {},
   "outputs": [],
   "source": [
    "import random\n",
    "import numpy as np\n",
    "import copy\n",
    "import time\n",
    "import matplotlib.pyplot as plt\n",
    "import math"
   ]
  },
  {
   "cell_type": "code",
   "execution_count": 43,
   "id": "971ec25b",
   "metadata": {},
   "outputs": [],
   "source": [
    "#convert the binary result to a table.\n",
    "import pandas as pd\n",
    "\n",
    "def final_table(x):\n",
    "        container=list(range(1,b+1))\n",
    "        container.append('Total')\n",
    "        package=[]\n",
    "        for i in range(b):\n",
    "            package.append([])\n",
    "            for j in range(n):\n",
    "                if x[j,i]==1:\n",
    "                    package[i].append(j+1)\n",
    "        package.append('')\n",
    "        \n",
    "        profits=[]\n",
    "        weights=[]\n",
    "        for i in range(b):\n",
    "            profit=0\n",
    "            weight=0\n",
    "            for j in package[i]:\n",
    "                profit+=vj[j-1]\n",
    "                weight+=wj[j-1]\n",
    "            profits.append(profit)\n",
    "            weights.append(weight)\n",
    "        profits.append(best_value)\n",
    "        weights.append('')\n",
    "        data={'Container':container,'Packages':package,'Profit':profits,'Weight':weights}\n",
    "        return pd.DataFrame(data)    "
   ]
  },
  {
   "cell_type": "code",
   "execution_count": 46,
   "id": "6566fee3",
   "metadata": {},
   "outputs": [],
   "source": [
    "#convert the binary result to a table.\n",
    "import pandas as pd\n",
    "\n",
    "def final_table(x):\n",
    "        container=list(range(1,b+1))\n",
    "        container.append('Total')\n",
    "        package=[]\n",
    "        for i in range(b):\n",
    "            package.append([])\n",
    "            for j in range(n):\n",
    "                if x[j,i]==1:\n",
    "                    package[i].append(j+1)\n",
    "        package.append('')\n",
    "        \n",
    "        profits=[]\n",
    "        weights=[]\n",
    "        for i in range(b):\n",
    "            profit=0\n",
    "            weight=0\n",
    "            for j in package[i]:\n",
    "                profit+=vj[j-1]\n",
    "                weight+=wj[j-1]\n",
    "            profits.append(profit)\n",
    "            weights.append(weight)\n",
    "        profits.append(best_value)\n",
    "        weights.append('')\n",
    "        data={'Container':container,'Packages':package,'Profit':profits,'Weight':weights}\n",
    "        return pd.DataFrame(data)   "
   ]
  },
  {
   "cell_type": "markdown",
   "id": "ca170904",
   "metadata": {},
   "source": [
    "Random Generation"
   ]
  },
  {
   "cell_type": "code",
   "execution_count": 47,
   "id": "121eee09",
   "metadata": {},
   "outputs": [
    {
     "name": "stdout",
     "output_type": "stream",
     "text": [
      "    Container                        Packages   Profit Weight\n",
      "0           1        [1351, 1636, 4604, 7262]    216.0     48\n",
      "1           2           [98, 409, 2043, 8172]    142.0     44\n",
      "2           3          [91, 3106, 3759, 3941]    162.0     46\n",
      "3           4              [2372, 3346, 7994]    240.0     39\n",
      "4           5  [1099, 3968, 6789, 7359, 9998]    218.0     39\n",
      "..        ...                             ...      ...    ...\n",
      "196       197   [569, 1419, 3920, 8654, 9090]    290.0     49\n",
      "197       198   [646, 2380, 3549, 4888, 9402]    354.0     42\n",
      "198       199         [436, 1938, 5951, 9901]    242.0     42\n",
      "199       200        [2250, 3787, 8260, 9564]    183.0     46\n",
      "200     Total                                  43685.0       \n",
      "\n",
      "[201 rows x 4 columns]\n"
     ]
    },
    {
     "data": {
      "text/plain": [
       "[<matplotlib.lines.Line2D at 0x26d3f3e6eb0>]"
      ]
     },
     "execution_count": 47,
     "metadata": {},
     "output_type": "execute_result"
    },
    {
     "data": {
      "image/png": "[encoded data removed]",
      "text/plain": [
       "<Figure size 432x288 with 1 Axes>"
      ]
     },
     "metadata": {
      "needs_background": "light"
     },
     "output_type": "display_data"
    }
   ],
   "source": [
    "result=np.zeros((n,b))\n",
    "iteration=0\n",
    "best_value=0\n",
    "start=time.time()\n",
    "end=time.time()\n",
    "time_list=[0]\n",
    "value_list=[0]\n",
    "\n",
    "while end-start<60*15:\n",
    "    #randomly generate a result\n",
    "    for i in range(n):\n",
    "        #whether to put the item in a knapsack\n",
    "        a=random.randint(0,3)\n",
    "        if a==1:\n",
    "            #decide to put in which knapsack\n",
    "            j=random.randint(0,b-1)\n",
    "            result[i,j]=1\n",
    "    \n",
    "    #check whether the result is valid\n",
    "    valid=True\n",
    "    overweight={}\n",
    "    for i in range(b):\n",
    "        weight=0\n",
    "        for j in range(n):\n",
    "            weight+=wj[j]*result[j,i]\n",
    "        if weight>c:\n",
    "            valid=False\n",
    "            overweight[i]=weight\n",
    "    \n",
    "    #randomly remove items until it meets the constraint\n",
    "    if valid==False:\n",
    "        for i,w in overweight.items():\n",
    "            in_bag=[]\n",
    "            for j in range(n):\n",
    "                if result[j,i]==1:\n",
    "                    in_bag.append(j)\n",
    "            while w>c:\n",
    "                a=random.randint(0,len(in_bag)-1)\n",
    "                result[in_bag[a],i]=0\n",
    "                w-=wj[in_bag[a]]\n",
    "                in_bag.pop(a)\n",
    "\n",
    "    #calculate the new value\n",
    "    cur_value=0\n",
    "    for i in range(n):\n",
    "        for j in range(b):\n",
    "            cur_value+=vj[i]*result[i,j]\n",
    "    if cur_value>best_value:\n",
    "        best_value=cur_value\n",
    "    end=time.time()\n",
    "    time_list.append(end-start)\n",
    "    value_list.append(best_value)\n",
    "print(final_table(result))\n",
    "plt.xlabel('CPU Time')\n",
    "plt.ylabel('Profit')\n",
    "plt.xlim((0,60*15))\n",
    "plt.plot(time_list,value_list)"
   ]
  },
  {
   "cell_type": "markdown",
   "id": "375263a7",
   "metadata": {},
   "source": [
    "Local Search: Choose 1 random neighbour"
   ]
  },
  {
   "cell_type": "code",
   "execution_count": 38,
   "id": "58e5180c",
   "metadata": {},
   "outputs": [
    {
     "name": "stdout",
     "output_type": "stream",
     "text": [
      "    Container                        Packages   Profit Weight\n",
      "0           1  [3030, 3195, 5309, 9320, 9413]    290.0     49\n",
      "1           2  [4455, 6405, 7495, 8945, 9264]    235.0     47\n",
      "2           3  [2964, 3961, 4074, 6736, 7096]    166.0     50\n",
      "3           4  [3990, 4313, 5141, 5876, 5904]    250.0     48\n",
      "4           5        [4069, 5970, 6347, 9368]    214.0     49\n",
      "..        ...                             ...      ...    ...\n",
      "196       197              [4859, 4951, 7537]    225.0     40\n",
      "197       198        [3339, 4961, 7186, 7471]    248.0     43\n",
      "198       199  [1038, 2391, 4566, 5263, 8935]    237.0     43\n",
      "199       200              [1180, 7617, 9249]    203.0     49\n",
      "200     Total                                  44142.0       \n",
      "\n",
      "[201 rows x 4 columns]\n"
     ]
    },
    {
     "data": {
      "text/plain": [
       "[<matplotlib.lines.Line2D at 0x2369a4ef1c0>]"
      ]
     },
     "execution_count": 38,
     "metadata": {},
     "output_type": "execute_result"
    },
    {
     "data": {
      "image/png": "[encoded data removed]",
      "text/plain": [
       "<Figure size 432x288 with 1 Axes>"
      ]
     },
     "metadata": {
      "needs_background": "light"
     },
     "output_type": "display_data"
    }
   ],
   "source": [
    "result=np.zeros((n,b))\n",
    "iteration=0\n",
    "best_value=0\n",
    "start=time.time()\n",
    "time_list=[0]\n",
    "value_list=[0]\n",
    "\n",
    "#generate a random solution\n",
    "for i in range(n):\n",
    "    #whether to put the item in a knapsack\n",
    "    a=random.randint(0,5)\n",
    "    if a==1:\n",
    "        #decide to put in which knapsack\n",
    "        j=random.randint(0,b-1)\n",
    "        result[i,j]=1\n",
    "    \n",
    "#check whether the result is valid\n",
    "valid=True\n",
    "overweight={}\n",
    "for i in range(b):\n",
    "    weight=0\n",
    "    for j in range(n):\n",
    "        weight+=wj[j]*result[j,i]\n",
    "    if weight>c:\n",
    "        valid=False\n",
    "        overweight[i]=weight\n",
    "    \n",
    "#randomly remove items until it meets the constraint\n",
    "if valid==False:\n",
    "    for i,w in overweight.items():\n",
    "        in_bag=[]\n",
    "        for j in range(n):\n",
    "            if result[j,i]==1:\n",
    "                in_bag.append(j)\n",
    "        while w>c:\n",
    "            a=random.randint(0,len(in_bag)-1)\n",
    "            result[in_bag[a],i]=0\n",
    "            w-=wj[in_bag[a]]\n",
    "            in_bag.pop(a)\n",
    "\n",
    "end=time.time()\n",
    "while end-start<60*15:\n",
    "    pre_result=copy.deepcopy(result)\n",
    "    \n",
    "    #choose which item to change\n",
    "    i=random.randint(0,n-1)\n",
    "    \n",
    "    #check whether the item is already put in a bag, if so, remove it.\n",
    "    for j in range(b):\n",
    "        if result[i,j]==1:\n",
    "            result[i,j]=0\n",
    "            \n",
    "    #choose a random bag to put it in\n",
    "    j=random.randint(0,b-1)\n",
    "    result[i,j]=1\n",
    "    \n",
    "    #check whether the result is valid\n",
    "    valid=True\n",
    "    for i in range(b):\n",
    "        weight=0\n",
    "        for j in range(n):\n",
    "            weight+=wj[j]*result[j,i]\n",
    "        if weight>c:\n",
    "            valid=False\n",
    "            result=pre_result\n",
    "    \n",
    "    #calculate the new value\n",
    "    if valid==True:\n",
    "        cur_value=0\n",
    "        for i in range(n):\n",
    "            for j in range(b):\n",
    "                cur_value+=vj[i]*result[i,j]\n",
    "        if cur_value>best_value:\n",
    "            best_value=cur_value\n",
    "        else:\n",
    "            result=pre_result\n",
    "    end=time.time()\n",
    "    time_list.append(end-start)\n",
    "    value_list.append(best_value)\n",
    "\n",
    "print(final_table(result))\n",
    "plt.xlabel('CPU Time')\n",
    "plt.ylabel('Profit')\n",
    "plt.xlim((0,60*15))\n",
    "plt.plot(time_list,value_list)"
   ]
  },
  {
   "cell_type": "markdown",
   "id": "9058103f",
   "metadata": {},
   "source": [
    "Simulated Annealing"
   ]
  },
  {
   "cell_type": "code",
   "execution_count": 47,
   "id": "31a69c78",
   "metadata": {},
   "outputs": [
    {
     "name": "stdout",
     "output_type": "stream",
     "text": [
      "    Container                             Packages   Profit Weight\n",
      "0           1       [1074, 2568, 3055, 7841, 8175]    293.0     49\n",
      "1           2  [783, 2024, 5897, 7934, 8312, 9399]    297.0     48\n",
      "2           3         [48, 1447, 1807, 1923, 3860]    242.0     48\n",
      "3           4             [1038, 3389, 8226, 9909]    205.0     50\n",
      "4           5                   [4931, 7875, 8467]    186.0     48\n",
      "..        ...                                  ...      ...    ...\n",
      "196       197                   [1336, 2037, 7381]    191.0     50\n",
      "197       198                   [1574, 7426, 8283]    178.0     47\n",
      "198       199             [3897, 5537, 7755, 9434]    230.0     50\n",
      "199       200             [2599, 3732, 3836, 7546]    206.0     49\n",
      "200     Total                                       42218.0       \n",
      "\n",
      "[201 rows x 4 columns]\n"
     ]
    },
    {
     "data": {
      "text/plain": [
       "[<matplotlib.lines.Line2D at 0x2369b5ca640>]"
      ]
     },
     "execution_count": 47,
     "metadata": {},
     "output_type": "execute_result"
    },
    {
     "data": {
      "image/png": "[encoded data removed]",
      "text/plain": [
       "<Figure size 432x288 with 1 Axes>"
      ]
     },
     "metadata": {
      "needs_background": "light"
     },
     "output_type": "display_data"
    }
   ],
   "source": [
    "result=np.zeros((n,b))\n",
    "iteration=0\n",
    "best_value=0\n",
    "start=time.time()\n",
    "time_list=[0]\n",
    "value_list=[0]\n",
    "T=1000\n",
    "\n",
    "#generate a random solution\n",
    "for i in range(n):\n",
    "    #whether to put the item in a knapsack\n",
    "    a=random.randint(0,5)\n",
    "    if a==1:\n",
    "        #decide to put in which knapsack\n",
    "        j=random.randint(0,b-1)\n",
    "        result[i,j]=1\n",
    "    \n",
    "#check whether the result is valid\n",
    "valid=True\n",
    "overweight={}\n",
    "for i in range(b):\n",
    "    weight=0\n",
    "    for j in range(n):\n",
    "        weight+=wj[j]*result[j,i]\n",
    "    if weight>c:\n",
    "        valid=False\n",
    "        overweight[i]=weight\n",
    "    \n",
    "#randomly remove items until it meets the constraint\n",
    "if valid==False:\n",
    "    for i,w in overweight.items():\n",
    "        in_bag=[]\n",
    "        for j in range(n):\n",
    "            if result[j,i]==1:\n",
    "                in_bag.append(j)\n",
    "        while w>c:\n",
    "            a=random.randint(0,len(in_bag)-1)\n",
    "            result[in_bag[a],i]=0\n",
    "            w-=wj[in_bag[a]]\n",
    "            in_bag.pop(a)\n",
    "\n",
    "end=time.time()\n",
    "while end-start<60*15:\n",
    "    pre_result=copy.deepcopy(result)\n",
    "    \n",
    "    #choose which item to change\n",
    "    i=random.randint(0,n-1)\n",
    "    \n",
    "    #check whether the item is already put in a bag, if so, remove it.\n",
    "    for j in range(b):\n",
    "        if result[i,j]==1:\n",
    "            result[i,j]=0\n",
    "            \n",
    "    #choose a random bag to put it in\n",
    "    j=random.randint(0,b-1)\n",
    "    result[i,j]=1\n",
    "    \n",
    "    #check whether the result is valid\n",
    "    valid=True\n",
    "    for i in range(b):\n",
    "        weight=0\n",
    "        for j in range(n):\n",
    "            weight+=wj[j]*result[j,i]\n",
    "        if weight>c:\n",
    "            valid=False\n",
    "            result=pre_result\n",
    "    \n",
    "    #calculate the new value\n",
    "    if valid==True:\n",
    "        cur_value=0\n",
    "        for i in range(n):\n",
    "            for j in range(b):\n",
    "                cur_value+=vj[i]*result[i,j]\n",
    "        p=random.random()\n",
    "        if cur_value>best_value or p<math.exp((cur_value-best_value)/T):\n",
    "            best_value=cur_value\n",
    "        else:\n",
    "            result=pre_result\n",
    "    end=time.time()\n",
    "    time_list.append(end-start)\n",
    "    value_list.append(best_value)\n",
    "    T=0.9*T\n",
    "\n",
    "print(final_table(result))\n",
    "plt.xlabel('CPU Time')\n",
    "plt.ylabel('Profit')\n",
    "plt.xlim((0,60*15))\n",
    "plt.plot(time_list,value_list)"
   ]
  }
 ],
 "metadata": {
  "kernelspec": {
   "display_name": "Python 3 (ipykernel)",
   "language": "python",
   "name": "python3"
  },
  "language_info": {
   "codemirror_mode": {
    "name": "ipython",
    "version": 3
   },
   "file_extension": ".py",
   "mimetype": "text/x-python",
   "name": "python",
   "nbconvert_exporter": "python",
   "pygments_lexer": "ipython3",
   "version": "3.9.7"
  }
 },
 "nbformat": 4,
 "nbformat_minor": 5
}
